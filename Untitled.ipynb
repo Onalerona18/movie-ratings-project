{
 "cells": [
  {
   "cell_type": "code",
   "execution_count": 1,
   "id": "d83dc765-7a12-49e4-a0d5-2708b6e4c5be",
   "metadata": {},
   "outputs": [
    {
     "name": "stdout",
     "output_type": "stream",
     "text": [
      "Hello, Ona! 🎬🎉\n"
     ]
    }
   ],
   "source": [
    "print(\"Hello, Ona! 🎬🎉\")\n"
   ]
  },
  {
   "cell_type": "code",
   "execution_count": null,
   "id": "6adac27f-31f5-4757-89a2-57856bf04612",
   "metadata": {},
   "outputs": [],
   "source": [
    "01-data-exploration.ipynb\n"
   ]
  }
 ],
 "metadata": {
  "kernelspec": {
   "display_name": "Python 3 (ipykernel)",
   "language": "python",
   "name": "python3"
  },
  "language_info": {
   "codemirror_mode": {
    "name": "ipython",
    "version": 3
   },
   "file_extension": ".py",
   "mimetype": "text/x-python",
   "name": "python",
   "nbconvert_exporter": "python",
   "pygments_lexer": "ipython3",
   "version": "3.13.5"
  }
 },
 "nbformat": 4,
 "nbformat_minor": 5
}
